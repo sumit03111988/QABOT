{
 "cells": [
  {
   "cell_type": "code",
   "execution_count": null,
   "metadata": {},
   "outputs": [],
   "source": [
    "#Import NLP\n",
    "import nltk\n",
    "#Import numpy for numerical computation\n",
    "import numpy as np\n",
    "#to imlement word2vec model\n",
    "import gensim\n",
    "#for loading existed chatbot model\n",
    "from keras.models import load_model"
   ]
  },
  {
   "cell_type": "code",
   "execution_count": null,
   "metadata": {
    "collapsed": true
   },
   "outputs": [],
   "source": [
    "#Using Existing model \n",
    "chatbot_model=load_model(\"chatbot_trained\")"
   ]
  },
  {
   "cell_type": "code",
   "execution_count": null,
   "metadata": {
    "collapsed": true
   },
   "outputs": [],
   "source": [
    "#Download the pre trained word2vec \n",
    "model_pre_process=gensim.models.Word2Vec.load(\"E:\\India_AI\\word2vec.bin\")"
   ]
  },
  {
   "cell_type": "code",
   "execution_count": null,
   "metadata": {},
   "outputs": [],
   "source": [
    "while(True):\n",
    "    #Input message from user\n",
    "    x=input(\"Enter the message\\t\")\n",
    "    #tokenize the input sentence into words and store into list\n",
    "    #lower the input words\n",
    "    tok_word=nltk.word_tokenize(x.lower())\n",
    "    #word in to vector\n",
    "    word_vec=[model_pre_process[w] for w in tok_word if w in model_pre_process.vocab]\n",
    "    #to avoid variable sequences\n",
    "    wordpadding=np.ones((300),dtype=np.float32)\n",
    "    #can handle 15 charates in word\n",
    "    word_vec[14:]=[]\n",
    "    word_vec.append(wordpadding)\n",
    "    if len(word_vec)<15:\n",
    "        word_vec.append(wordpadding)\n",
    "        for i in range(15-len(word_vec)):\n",
    "            word_vec.append(wordpadding)\n",
    "    word_vec=np.array([word_vec])\n",
    "    #predict the input words\n",
    "    predictions=chatbot_model.predict(word_vec)\n",
    "    #most similar predicted words\n",
    "    chatbot_output_list=[model_pre_process.most_similar([predictions[0][i]])[0][0] for i in range(15)]\n",
    "    #join the words with space\n",
    "    chatbot_output=\" \".join(chatbot_output_list)\n",
    "    print(chatbot_output)"
   ]
  },
  {
   "cell_type": "code",
   "execution_count": null,
   "metadata": {
    "collapsed": true
   },
   "outputs": [],
   "source": []
  }
 ],
 "metadata": {
  "kernelspec": {
   "display_name": "Python 3",
   "language": "python",
   "name": "python3"
  },
  "language_info": {
   "codemirror_mode": {
    "name": "ipython",
    "version": 3
   },
   "file_extension": ".py",
   "mimetype": "text/x-python",
   "name": "python",
   "nbconvert_exporter": "python",
   "pygments_lexer": "ipython3",
   "version": "3.6.1"
  }
 },
 "nbformat": 4,
 "nbformat_minor": 2
}
